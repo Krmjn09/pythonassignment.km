{
  "nbformat": 4,
  "nbformat_minor": 0,
  "metadata": {
    "colab": {
      "provenance": [],
      "authorship_tag": "ABX9TyOqXzC6usOCxl5UgKobBS2c",
      "include_colab_link": true
    },
    "kernelspec": {
      "name": "python3",
      "display_name": "Python 3"
    },
    "language_info": {
      "name": "python"
    }
  },
  "cells": [
    {
      "cell_type": "markdown",
      "metadata": {
        "id": "view-in-github",
        "colab_type": "text"
      },
      "source": [
        "<a href=\"https://colab.research.google.com/github/Krmjn09/pythonassignment.km/blob/main/pythonassignment_km.ipynb\" target=\"_parent\"><img src=\"https://colab.research.google.com/assets/colab-badge.svg\" alt=\"Open In Colab\"/></a>"
      ]
    },
    {
      "cell_type": "markdown",
      "source": [
        "#Question 1"
      ],
      "metadata": {
        "id": "rXDULw8fuSDm"
      }
    },
    {
      "cell_type": "code",
      "source": [
        "# (i)\n",
        "L=[11,12,13,14]\n",
        "L.append(50)\n",
        "L.append(60)\n",
        "print(\"after appending -->\",L)\n",
        "\n",
        "#(ii)\n",
        "del L[0]\n",
        "print(\"after deleting -->\" ,L)\n",
        "del L[1]\n",
        "print(\"after deleting -->\" ,L)\n",
        "\n",
        "#(iii)\n",
        "L.sort()\n",
        "print(\"after arranging in ascending order =\", L)\n",
        "#(iv)\n",
        "L .sort(reverse=True)\n",
        "print(\"after arranging in descending order =\", L)"
      ],
      "metadata": {
        "colab": {
          "base_uri": "https://localhost:8080/"
        },
        "id": "lebfVDCE5oHU",
        "outputId": "0020fe79-c10f-4750-cc2c-3681a9a3624d"
      },
      "execution_count": 2,
      "outputs": [
        {
          "output_type": "stream",
          "name": "stdout",
          "text": [
            "after appending --> [11, 12, 13, 14, 50, 60]\n",
            "after deleting --> [12, 13, 14, 50, 60]\n",
            "after deleting --> [12, 14, 50, 60]\n",
            "after arranging in ascending order = [12, 14, 50, 60]\n",
            "after arranging in descending order = [60, 50, 14, 12]\n"
          ]
        }
      ]
    },
    {
      "cell_type": "code",
      "source": [
        "#(v)\n",
        "L=[11,12,13,14]\n",
        "if 13 in L:\n",
        " print(\"element found\")\n",
        "\n",
        "else:\n",
        "  print(\"element not found\") "
      ],
      "metadata": {
        "colab": {
          "base_uri": "https://localhost:8080/"
        },
        "id": "uV0JfJB1hHNw",
        "outputId": "d9be3355-cb3a-46d0-da31-68b60d4daba4"
      },
      "execution_count": 8,
      "outputs": [
        {
          "output_type": "stream",
          "name": "stdout",
          "text": [
            "element found\n"
          ]
        }
      ]
    },
    {
      "cell_type": "code",
      "source": [
        "#(vi)\n",
        "count=len(L)\n",
        "print(\"No of elements in L are\",count)"
      ],
      "metadata": {
        "colab": {
          "base_uri": "https://localhost:8080/"
        },
        "id": "j5d7TElCjkO2",
        "outputId": "969e10c3-583a-468c-8c2b-e19d6f3b50c0"
      },
      "execution_count": 9,
      "outputs": [
        {
          "output_type": "stream",
          "name": "stdout",
          "text": [
            "No of elements in L are 4\n"
          ]
        }
      ]
    },
    {
      "cell_type": "code",
      "source": [
        "#(vii)\n",
        "print(\"Sum of all the elements in L =\",sum(L))"
      ],
      "metadata": {
        "colab": {
          "base_uri": "https://localhost:8080/"
        },
        "id": "V6Dg3_fckojc",
        "outputId": "34af9e0b-c651-46e7-bd39-c4a894571c77"
      },
      "execution_count": 10,
      "outputs": [
        {
          "output_type": "stream",
          "name": "stdout",
          "text": [
            "Sum of all the elements in L = 50\n"
          ]
        }
      ]
    },
    {
      "cell_type": "code",
      "source": [
        "#(viii)\n",
        "i=0\n",
        "while i < len(L):\n",
        " if (L[i]%2!=0):\n",
        "  print(\"oDD NO. ARE \", L[i])\n",
        " i+=1 \n"
      ],
      "metadata": {
        "colab": {
          "base_uri": "https://localhost:8080/"
        },
        "id": "nEkGg5WDlSwV",
        "outputId": "c7069b74-0342-4d32-aeff-67849a02d1fe"
      },
      "execution_count": 14,
      "outputs": [
        {
          "output_type": "stream",
          "name": "stdout",
          "text": [
            "oDD NO. ARE  11\n",
            "oDD NO. ARE  13\n"
          ]
        }
      ]
    },
    {
      "cell_type": "code",
      "source": [
        "#(ix)\n",
        "i=0\n",
        "while i < len(L):\n",
        " if (L[i]%2==0):\n",
        "  print(\"Even NO. ARE \", L[i])\n",
        " i+=1 \n"
      ],
      "metadata": {
        "colab": {
          "base_uri": "https://localhost:8080/"
        },
        "id": "kgPJLV2Sme9N",
        "outputId": "c33431ad-5733-4494-b332-d32700e34b6d"
      },
      "execution_count": 15,
      "outputs": [
        {
          "output_type": "stream",
          "name": "stdout",
          "text": [
            "Even NO. ARE  12\n",
            "Even NO. ARE  14\n"
          ]
        }
      ]
    },
    {
      "cell_type": "code",
      "source": [
        "#(x)\n",
        "def is_prime(n):\n",
        "    if n < 2:\n",
        "        return False\n",
        "    for i in range(2, int(n//2) + 1):\n",
        "        if n % i == 0:\n",
        "            return False\n",
        "    return True\n",
        "\n",
        "\n",
        "prime_sum = 0\n",
        "for num in L:\n",
        "    if is_prime(num):\n",
        "        prime_sum += num\n",
        "\n",
        "print(f\"The sum of all prime numbers in the list is: {prime_sum}\")\n"
      ],
      "metadata": {
        "colab": {
          "base_uri": "https://localhost:8080/"
        },
        "id": "drQbg7kTr5we",
        "outputId": "ec91f091-7f99-4612-b2be-37c31cf382e5"
      },
      "execution_count": 16,
      "outputs": [
        {
          "output_type": "stream",
          "name": "stdout",
          "text": [
            "The sum of all prime numbers in the list is: 24\n"
          ]
        }
      ]
    },
    {
      "cell_type": "code",
      "source": [
        "L.clear()\n",
        "print(\"list after clearing \", L)"
      ],
      "metadata": {
        "colab": {
          "base_uri": "https://localhost:8080/"
        },
        "id": "R-XsXDpWtIvh",
        "outputId": "4807d929-856f-43d9-9211-5f2f70511716"
      },
      "execution_count": 17,
      "outputs": [
        {
          "output_type": "stream",
          "name": "stdout",
          "text": [
            "list after clearing  []\n"
          ]
        }
      ]
    },
    {
      "cell_type": "code",
      "source": [
        "del L\n"
      ],
      "metadata": {
        "id": "R6yJgOKWtrhf"
      },
      "execution_count": 18,
      "outputs": []
    },
    {
      "cell_type": "markdown",
      "source": [
        "# Question 2"
      ],
      "metadata": {
        "id": "zJp7Dz3Iu3nQ"
      }
    },
    {
      "cell_type": "code",
      "source": [
        "#(i)\n",
        "D= {1:5.6, 2:7.8, 3:6.6, 4:8.7, 5:7.7}\n",
        "D[8]=8.8\n",
        "print(\"After adding =\", D)"
      ],
      "metadata": {
        "colab": {
          "base_uri": "https://localhost:8080/"
        },
        "id": "G_q-pNKtu6X0",
        "outputId": "70f1784d-fa8d-437a-cf6f-cc391972fa46"
      },
      "execution_count": 19,
      "outputs": [
        {
          "output_type": "stream",
          "name": "stdout",
          "text": [
            "After adding = {1: 5.6, 2: 7.8, 3: 6.6, 4: 8.7, 5: 7.7, 8: 8.8}\n"
          ]
        }
      ]
    },
    {
      "cell_type": "code",
      "source": [
        "#(ii)\n",
        "D= {1:5.6, 2:7.8, 3:6.6, 4:8.7, 5:7.7}\n",
        "del D[2]\n",
        "print(D)"
      ],
      "metadata": {
        "colab": {
          "base_uri": "https://localhost:8080/"
        },
        "id": "9ev01yPRv3x4",
        "outputId": "920fade6-cf47-4aea-cea0-0213959d84ff"
      },
      "execution_count": 20,
      "outputs": [
        {
          "output_type": "stream",
          "name": "stdout",
          "text": [
            "{1: 5.6, 3: 6.6, 4: 8.7, 5: 7.7}\n"
          ]
        }
      ]
    },
    {
      "cell_type": "code",
      "source": [
        "#(iii)\n",
        "D= {1:5.6, 2:7.8, 3:6.6, 4:8.7, 5:7.7}\n",
        "if '6' in D:\n",
        "  print(\"present\")\n",
        "else:\n",
        "  print(\"not present\")"
      ],
      "metadata": {
        "colab": {
          "base_uri": "https://localhost:8080/"
        },
        "id": "9GNt94odwMOy",
        "outputId": "15bf21e4-9b60-4e36-ff44-e59710b66c40"
      },
      "execution_count": 35,
      "outputs": [
        {
          "output_type": "stream",
          "name": "stdout",
          "text": [
            "not present\n"
          ]
        }
      ]
    },
    {
      "cell_type": "code",
      "source": [
        "count=len(D)\n",
        "print(count)"
      ],
      "metadata": {
        "colab": {
          "base_uri": "https://localhost:8080/"
        },
        "id": "vfwFuGzSwrVO",
        "outputId": "2b4f4f8e-5639-4c29-f725-4117077f8eab"
      },
      "execution_count": 36,
      "outputs": [
        {
          "output_type": "stream",
          "name": "stdout",
          "text": [
            "5\n"
          ]
        }
      ]
    },
    {
      "cell_type": "code",
      "source": [
        "D= {1:5.6, 2:7.8, 3:6.6, 4:8.7, 5:7.7}\n",
        "total = 0\n",
        "for k in D.values():\n",
        "    total += k\n",
        "\n",
        "print(f\"The sum of all values in the dictionary is: {total}\")"
      ],
      "metadata": {
        "colab": {
          "base_uri": "https://localhost:8080/"
        },
        "id": "9m2PEWO-w5Ex",
        "outputId": "2ecb15d0-fcac-4137-dd24-aa4a4dbe3315"
      },
      "execution_count": 41,
      "outputs": [
        {
          "output_type": "stream",
          "name": "stdout",
          "text": [
            "The sum of all values in the dictionary is: 36.4\n"
          ]
        }
      ]
    },
    {
      "cell_type": "code",
      "source": [
        "D[3]=7.1\n",
        "print(D)"
      ],
      "metadata": {
        "colab": {
          "base_uri": "https://localhost:8080/"
        },
        "id": "njbRGPrmzjYk",
        "outputId": "6afc8c47-f2b8-4b23-fe41-8bf9eb310189"
      },
      "execution_count": 42,
      "outputs": [
        {
          "output_type": "stream",
          "name": "stdout",
          "text": [
            "{1: 5.6, 2: 7.8, 3: 7.1, 4: 8.7, 5: 7.7}\n"
          ]
        }
      ]
    },
    {
      "cell_type": "code",
      "source": [
        "D.clear()\n",
        "print(D)"
      ],
      "metadata": {
        "colab": {
          "base_uri": "https://localhost:8080/"
        },
        "id": "L2cdv7ptztCC",
        "outputId": "e971cac2-f34d-4463-ce79-564cd844b129"
      },
      "execution_count": 43,
      "outputs": [
        {
          "output_type": "stream",
          "name": "stdout",
          "text": [
            "{}\n"
          ]
        }
      ]
    },
    {
      "cell_type": "markdown",
      "source": [
        "# Question 3"
      ],
      "metadata": {
        "id": "NYEgGcn6z14Q"
      }
    },
    {
      "cell_type": "code",
      "source": [
        "#(i)\n",
        "S1= {10, 20, 30, 40, 50, 60}\n",
        "S2= {40, 50, 60, 70, 80, 90}\n",
        "print(S1)\n",
        "S1.add(55)\n",
        "S1.add(66)\n",
        "print(S1)"
      ],
      "metadata": {
        "colab": {
          "base_uri": "https://localhost:8080/"
        },
        "id": "A4_-8DnR0VzH",
        "outputId": "62436c30-bafe-438d-b494-64359fcb265d"
      },
      "execution_count": 50,
      "outputs": [
        {
          "output_type": "stream",
          "name": "stdout",
          "text": [
            "{50, 20, 40, 10, 60, 30}\n",
            "{50, 66, 20, 55, 40, 10, 60, 30}\n"
          ]
        }
      ]
    },
    {
      "cell_type": "code",
      "source": [
        "# (ii) Remove 10 and 30 from S1\n",
        "S1.discard(10)\n",
        "S1.discard(30)\n",
        "print(\"Updated S1 after removing 10 and 30:\", S1)"
      ],
      "metadata": {
        "colab": {
          "base_uri": "https://localhost:8080/"
        },
        "id": "QrkQ41Ne1ont",
        "outputId": "129709e0-143b-4b85-b837-42453ab9132d"
      },
      "execution_count": 51,
      "outputs": [
        {
          "output_type": "stream",
          "name": "stdout",
          "text": [
            "Updated S1 after removing 10 and 30: {50, 66, 20, 55, 40, 60}\n"
          ]
        }
      ]
    },
    {
      "cell_type": "code",
      "source": [
        "# (iii) Check if 40 is present in S1\n",
        "if 40 in S1:\n",
        "    print(\"40 is present in S1.\")\n",
        "else:\n",
        "    print(\"40 is not present in S1.\")"
      ],
      "metadata": {
        "colab": {
          "base_uri": "https://localhost:8080/"
        },
        "id": "X8E3WNKX13OP",
        "outputId": "1cbcffa4-1c73-48d9-d162-4bf15bc4718a"
      },
      "execution_count": 52,
      "outputs": [
        {
          "output_type": "stream",
          "name": "stdout",
          "text": [
            "40 is present in S1.\n"
          ]
        }
      ]
    },
    {
      "cell_type": "code",
      "source": [
        "# (iv) Find the union of S1 and S2\n",
        "S1= {10, 20, 30, 40, 50, 60}\n",
        "S2= {40, 50, 60, 70, 80, 90}\n",
        "union_set = S1.union(S2)\n",
        "print(\"Union of S1 and S2:\", union_set)"
      ],
      "metadata": {
        "colab": {
          "base_uri": "https://localhost:8080/"
        },
        "id": "UiWdIYAp187T",
        "outputId": "b112a0b2-1caf-43ec-b2a6-459436f849ba"
      },
      "execution_count": 53,
      "outputs": [
        {
          "output_type": "stream",
          "name": "stdout",
          "text": [
            "Union of S1 and S2: {70, 40, 10, 80, 50, 20, 90, 60, 30}\n"
          ]
        }
      ]
    },
    {
      "cell_type": "code",
      "source": [
        "# (v) Find the intersection of S1 and S2\n",
        "intersection_set = S1.intersection(S2)\n",
        "print(\"Intersection of S1 and S2:\", intersection_set)"
      ],
      "metadata": {
        "colab": {
          "base_uri": "https://localhost:8080/"
        },
        "id": "kdJAIVim2TVE",
        "outputId": "a8d74ff5-15d1-4527-8974-5afbae1f54dc"
      },
      "execution_count": 54,
      "outputs": [
        {
          "output_type": "stream",
          "name": "stdout",
          "text": [
            "Intersection of S1 and S2: {40, 50, 60}\n"
          ]
        }
      ]
    },
    {
      "cell_type": "code",
      "source": [
        "# (vi) Find S1 - S2\n",
        "difference_set = S1 - S2\n",
        "print(\"Difference of S1 and S2:\", difference_set)"
      ],
      "metadata": {
        "colab": {
          "base_uri": "https://localhost:8080/"
        },
        "id": "Sq02WINu2Vr-",
        "outputId": "6fc6a84a-0009-42e8-a5ec-cd9dadaae5e4"
      },
      "execution_count": 55,
      "outputs": [
        {
          "output_type": "stream",
          "name": "stdout",
          "text": [
            "Difference of S1 and S2: {10, 20, 30}\n"
          ]
        }
      ]
    },
    {
      "cell_type": "markdown",
      "source": [
        "# Question 4"
      ],
      "metadata": {
        "id": "kDIXk0662nkV"
      }
    },
    {
      "cell_type": "code",
      "source": [
        "import random\n",
        "\n",
        "# (i) Print 100 random strings with length between 6 and 8\n",
        "for _ in range(100):\n",
        "    length = random.randint(6, 8)\n",
        "    random_string = ''.join(random.choices('abcdefghijklmnopqrstuvwxyz', k=length))\n",
        "    print(random_string)\n",
        "\n",
        "\n",
        "\n"
      ],
      "metadata": {
        "colab": {
          "base_uri": "https://localhost:8080/"
        },
        "id": "3paOERq22sK4",
        "outputId": "f647a56b-b9b1-47a7-fc28-a57fcad24798"
      },
      "execution_count": 61,
      "outputs": [
        {
          "output_type": "stream",
          "name": "stdout",
          "text": [
            "przjnnxz\n",
            "rinjtdjy\n",
            "jwxayvh\n",
            "rssdqsl\n",
            "bpqpiyqn\n",
            "qqovqu\n",
            "cfcqwi\n",
            "suemlahz\n",
            "osckslm\n",
            "ojeeavf\n",
            "kovdef\n",
            "flksae\n",
            "hwjqdeeg\n",
            "pgceqxtn\n",
            "wvlmpmqs\n",
            "abqvifmf\n",
            "uvthvxke\n",
            "oppnhdp\n",
            "ayakxqmm\n",
            "yvqibt\n",
            "geotqnk\n",
            "drgdkcf\n",
            "swfttor\n",
            "ockllt\n",
            "jfrkoj\n",
            "twsooh\n",
            "rdygas\n",
            "aighlo\n",
            "ewfjkrt\n",
            "lkzmsd\n",
            "qalbvxpv\n",
            "tdiokhc\n",
            "rvnmxnss\n",
            "ufbuwhr\n",
            "xgyhtka\n",
            "lgbzsc\n",
            "ntvfvel\n",
            "zltsdyf\n",
            "mfjjtbk\n",
            "gmifngr\n",
            "ocilqrk\n",
            "lcdvsyiw\n",
            "vyqejvfk\n",
            "kegeglet\n",
            "zdnveix\n",
            "kyknjaud\n",
            "jsqvww\n",
            "rimgrxa\n",
            "qgphaaug\n",
            "jhaaaa\n",
            "crmfrzu\n",
            "otawggj\n",
            "tgsvtnxv\n",
            "lrthvdb\n",
            "ughxshnt\n",
            "wplsxyj\n",
            "pxxvcz\n",
            "vxbxcto\n",
            "siqtqot\n",
            "bkyvhxr\n",
            "wnfbtbfv\n",
            "svcxvf\n",
            "ptwzuc\n",
            "ggahwd\n",
            "lpioyq\n",
            "bdeqglxj\n",
            "ziyogzhx\n",
            "sxjiax\n",
            "wjqjtybz\n",
            "rfjxxnps\n",
            "atvkoiy\n",
            "ikpcxdf\n",
            "lhfksua\n",
            "ilkoblpx\n",
            "aqdgln\n",
            "warmqt\n",
            "dslwtbv\n",
            "lmidmvfi\n",
            "clttol\n",
            "dssryi\n",
            "bypuqa\n",
            "rhbpmzyd\n",
            "blmrvx\n",
            "zdapkuod\n",
            "japedxz\n",
            "zeuxhu\n",
            "hsoozutm\n",
            "biczqb\n",
            "qcwbfdj\n",
            "cygwden\n",
            "cpovlzj\n",
            "tkgndmx\n",
            "eqtxuzn\n",
            "phvsxmev\n",
            "kvboukc\n",
            "glrsrnx\n",
            "aanztvh\n",
            "bezowmwg\n",
            "zwyqwf\n",
            "zywrmf\n"
          ]
        }
      ]
    },
    {
      "cell_type": "code",
      "source": [],
      "metadata": {
        "id": "RC_xqYvU3tgY"
      },
      "execution_count": null,
      "outputs": []
    },
    {
      "cell_type": "code",
      "source": [
        "# (ii) Print all prime numbers between 600 and 800\n",
        "def is_prime(n):\n",
        "    if n < 2:\n",
        "        return False\n",
        "    for i in range(2, int(n**0.5) + 1):\n",
        "        if n % i == 0:\n",
        "            return False\n",
        "    return True\n",
        "    \n",
        "for num in range(600, 801):\n",
        "    if is_prime(num):\n",
        "        print(num)"
      ],
      "metadata": {
        "colab": {
          "base_uri": "https://localhost:8080/"
        },
        "id": "1wpsHttc3fNr",
        "outputId": "ad66188c-1346-4982-d176-f8643def6c6f"
      },
      "execution_count": 62,
      "outputs": [
        {
          "output_type": "stream",
          "name": "stdout",
          "text": [
            "601\n",
            "607\n",
            "613\n",
            "617\n",
            "619\n",
            "631\n",
            "641\n",
            "643\n",
            "647\n",
            "653\n",
            "659\n",
            "661\n",
            "673\n",
            "677\n",
            "683\n",
            "691\n",
            "701\n",
            "709\n",
            "719\n",
            "727\n",
            "733\n",
            "739\n",
            "743\n",
            "751\n",
            "757\n",
            "761\n",
            "769\n",
            "773\n",
            "787\n",
            "797\n"
          ]
        }
      ]
    },
    {
      "cell_type": "code",
      "source": [
        "# (iii) Print all numbers between 100 and 1000 divisible by 7 and 9\n",
        "for num in range(100, 1001):\n",
        "    if num % 7 == 0 and num % 9 == 0:\n",
        "        print(num)"
      ],
      "metadata": {
        "colab": {
          "base_uri": "https://localhost:8080/"
        },
        "id": "1gCv2Aqx3pfn",
        "outputId": "6757fee4-e9fb-4f97-d166-d827dffebfe4"
      },
      "execution_count": 63,
      "outputs": [
        {
          "output_type": "stream",
          "name": "stdout",
          "text": [
            "126\n",
            "189\n",
            "252\n",
            "315\n",
            "378\n",
            "441\n",
            "504\n",
            "567\n",
            "630\n",
            "693\n",
            "756\n",
            "819\n",
            "882\n",
            "945\n"
          ]
        }
      ]
    },
    {
      "cell_type": "code",
      "source": [
        "import random\n",
        "\n",
        "# Create two lists of 10 random numbers between 10 and 30\n",
        "list1 = random.sample(range(10, 31), 10)\n",
        "list2 = random.sample(range(10, 31), 10)\n",
        "\n",
        "print(\"List 1:\", list1)\n",
        "print(\"List 2:\", list2)\n",
        "\n",
        "# (i) Find common numbers in the two lists\n",
        "common_numbers = set(list1).intersection(set(list2))\n",
        "print(\"Common numbers:\", common_numbers)\n",
        "\n",
        "# (ii) Find unique numbers in both lists\n",
        "unique_numbers = set(list1).symmetric_difference(set(list2))\n",
        "print(\"Unique numbers:\", unique_numbers)\n",
        "\n",
        "# (iii) Find the minimum in both lists\n",
        "min1 = min(list1)\n",
        "min2 = min(list2)\n",
        "print(\"Minimum in List 1:\", min1)\n",
        "print(\"Minimum in List 2:\", min2)\n",
        "\n",
        "# (iv) Find the maximum in both lists\n",
        "max1 = max(list1)\n",
        "max2 = max(list2)\n",
        "print(\"Maximum in List 1:\", max1)\n",
        "print(\"Maximum in List 2:\", max2)"
      ],
      "metadata": {
        "colab": {
          "base_uri": "https://localhost:8080/"
        },
        "id": "OoLPdrk74Ulz",
        "outputId": "b2d919a1-41ee-415f-fcc8-723ab0be6ae7"
      },
      "execution_count": 65,
      "outputs": [
        {
          "output_type": "stream",
          "name": "stdout",
          "text": [
            "List 1: [16, 11, 20, 19, 28, 10, 23, 26, 24, 14]\n",
            "List 2: [28, 10, 26, 17, 11, 19, 30, 18, 27, 25]\n",
            "Common numbers: {10, 11, 19, 26, 28}\n",
            "Unique numbers: {14, 16, 17, 18, 20, 23, 24, 25, 27, 30}\n",
            "Minimum in List 1: 10\n",
            "Minimum in List 2: 10\n",
            "Maximum in List 1: 28\n",
            "Maximum in List 2: 30\n"
          ]
        }
      ]
    },
    {
      "cell_type": "markdown",
      "source": [
        "# Question 6"
      ],
      "metadata": {
        "id": "HdbmDchy5vGv"
      }
    },
    {
      "cell_type": "code",
      "source": [
        "import random\n",
        "\n",
        "# Create a list of 100 random numbers between 100 and 900\n",
        "numbers = random.sample(range(100, 901), 100)\n",
        "\n",
        "# (i) Print all odd numbers\n",
        "odd_numbers = [num for num in numbers if num % 2 != 0]\n",
        "print(\"Odd numbers:\", odd_numbers)\n",
        "\n",
        "# (ii) Print all even numbers\n",
        "even_numbers = [num for num in numbers if num % 2 == 0]\n",
        "print(\"Even numbers:\", even_numbers)\n",
        "\n",
        "# (iii) Print all prime numbers\n",
        "def is_prime(num):\n",
        "    if num < 2:\n",
        "        return False\n",
        "    for i in range(2, int(num ** 0.5) + 1):\n",
        "        if num % i == 0:\n",
        "            return False\n",
        "    return True\n",
        "\n",
        "prime_numbers = [num for num in numbers if is_prime(num)]\n",
        "print(\"Prime numbers:\", prime_numbers)\n"
      ],
      "metadata": {
        "colab": {
          "base_uri": "https://localhost:8080/"
        },
        "id": "0AnlSGb35yxV",
        "outputId": "041abb93-41bb-475f-9632-a53db9833dcf"
      },
      "execution_count": 66,
      "outputs": [
        {
          "output_type": "stream",
          "name": "stdout",
          "text": [
            "Odd numbers: [799, 603, 469, 147, 269, 773, 825, 211, 449, 621, 437, 763, 715, 853, 667, 511, 413, 863, 747, 771, 857, 193, 665, 897, 545, 491, 151, 669, 141, 865, 845, 547, 539, 889, 675, 223, 657, 441, 881, 619, 409, 555, 821, 221, 581, 343, 737, 559, 257, 463, 787, 615, 543, 365, 777, 565, 719]\n",
            "Even numbers: [390, 384, 372, 134, 300, 150, 836, 694, 122, 410, 536, 126, 538, 820, 518, 506, 450, 222, 496, 598, 642, 438, 442, 852, 370, 436, 550, 466, 344, 162, 392, 454, 512, 744, 736, 468, 110, 630, 446, 100, 618, 784, 254]\n",
            "Prime numbers: [269, 773, 211, 449, 853, 863, 857, 193, 491, 151, 547, 223, 881, 619, 409, 821, 257, 463, 787, 719]\n"
          ]
        }
      ]
    },
    {
      "cell_type": "markdown",
      "source": [
        "# Question 7"
      ],
      "metadata": {
        "id": "gIYUwLT16XA2"
      }
    },
    {
      "cell_type": "code",
      "source": [
        "D = {1: \"One\", 2: \"Two\", 3: \"Three\", 4: \"Four\", 5: \"Five\"}\n",
        "\n",
        "# Open the file in write mode\n",
        "fp=open(\"output.txt\", \"w\")\n",
        "    # Iterate over the items of the dictionary\n",
        "for key, value in D.items():\n",
        "        # Write the key-value pair to the file\n",
        " fp.write(f\"{key}, {value}\\n\")\n",
        "print(\"Data written to the file successfully.\")\n"
      ],
      "metadata": {
        "colab": {
          "base_uri": "https://localhost:8080/"
        },
        "id": "cw0lIOv86as0",
        "outputId": "412fa9e6-841b-496e-f4c4-043305a41775"
      },
      "execution_count": 70,
      "outputs": [
        {
          "output_type": "stream",
          "name": "stdout",
          "text": [
            "Data written to the file successfully.\n"
          ]
        }
      ]
    },
    {
      "cell_type": "markdown",
      "source": [
        "# Question 8"
      ],
      "metadata": {
        "id": "r6oKByEp629r"
      }
    },
    {
      "cell_type": "code",
      "source": [
        "L = [\"One\", \"Two\", \"Three\", \"Four\", \"Five\"]\n",
        "\n",
        "with open(\"lengths.txt\", \"w\") as file:\n",
        "    for item in L:\n",
        "        length = len(item)\n",
        "        file.write(f\"{item}, {length}\\n\")\n"
      ],
      "metadata": {
        "id": "H7q98Hp166UP"
      },
      "execution_count": 71,
      "outputs": []
    },
    {
      "cell_type": "markdown",
      "source": [
        "# Question 9"
      ],
      "metadata": {
        "id": "JVcZu8mp8F_f"
      }
    },
    {
      "cell_type": "code",
      "source": [
        "import random\n",
        "import string\n",
        "\n",
        "with open(\"random_strings.txt\", \"w\") as file:\n",
        "    for _ in range(100):\n",
        "        length = random.randint(10, 15)\n",
        "        random_string = ''.join(random.choices(string.ascii_letters + string.digits, k=length))\n",
        "        file.write(f\"{random_string}\\n\")\n"
      ],
      "metadata": {
        "id": "M0gcf9ZW8V0o"
      },
      "execution_count": 72,
      "outputs": []
    },
    {
      "cell_type": "code",
      "source": [
        "def is_prime(n):\n",
        "    if n <= 1:\n",
        "        return False\n",
        "    for i in range(2, int(n ** 0.5) + 1):\n",
        "        if n % i == 0:\n",
        "            return False\n",
        "    return True\n",
        "\n",
        "with open(\"prime_numbers.txt\", \"w\") as file:\n",
        "    for num in range(600, 801):\n",
        "        if is_prime(num):\n",
        "            file.write(f\"{num}\\n\")\n"
      ],
      "metadata": {
        "id": "8sGVUHKg8rOx"
      },
      "execution_count": 73,
      "outputs": []
    },
    {
      "cell_type": "markdown",
      "source": [
        "# Question 11"
      ],
      "metadata": {
        "id": "Kf2-8B0b83tw"
      }
    },
    {
      "cell_type": "code",
      "source": [
        "import time\n",
        "\n",
        "# Start the timer\n",
        "start_time = time.time()\n",
        "\n",
        "# Run your program here\n",
        "# ...\n",
        "\n",
        "# End the timer\n",
        "end_time = time.time()\n",
        "\n",
        "# Calculate the elapsed time\n",
        "elapsed_time = end_time - start_time\n",
        "\n",
        "# Print the elapsed time\n",
        "print(f\"The program took {elapsed_time:.2f} seconds to execute.\")\n"
      ],
      "metadata": {
        "colab": {
          "base_uri": "https://localhost:8080/"
        },
        "id": "sb7gQVyg87Nb",
        "outputId": "36340505-af36-4d6e-ecfa-d0c30b76d744"
      },
      "execution_count": 76,
      "outputs": [
        {
          "output_type": "stream",
          "name": "stdout",
          "text": [
            "The program took 0.00 seconds to execute.\n"
          ]
        }
      ]
    },
    {
      "cell_type": "code",
      "source": [
        "# Create a dictionary of student marks\n",
        "student_marks = {\n",
        "    \"John\": [85, 92, 78, 90, 88],\n",
        "    \"Alice\": [90, 87, 92, 75, 82],\n",
        "    \"Emma\": [79, 85, 80, 92, 88],\n",
        "    \"Michael\": [92, 89, 92, 90, 85],\n",
        "    \"Sophia\": [88, 85, 90, 78, 92]\n",
        "}\n",
        "\n",
        "# Calculate the average marks for each student\n",
        "average_marks = {}\n",
        "for student_marks in student_marks.items():\n",
        "    average_marks[student] = sum(marks) / len(marks)\n",
        "\n",
        "# Find the student with maximum and minimum average marks\n",
        "max_student = max(average_marks, key=average_marks.get)\n",
        "min_student = min(average_marks, key=average_marks.get)\n",
        "\n",
        "# Print the results\n",
        "print(f\"The student with the maximum average marks is: {max_student} with an average of {average_marks[max_student]:.2f}\")\n",
        "print(f\"The student with the minimum average marks is: {min_student} with an average of {average_marks[min_student]:.2f}\")\n"
      ],
      "metadata": {
        "colab": {
          "base_uri": "https://localhost:8080/",
          "height": 235
        },
        "id": "ETyHf5fl9P_O",
        "outputId": "4453ccf2-2ee4-4db1-808d-544dface7010"
      },
      "execution_count": 77,
      "outputs": [
        {
          "output_type": "error",
          "ename": "TypeError",
          "evalue": "ignored",
          "traceback": [
            "\u001b[0;31m---------------------------------------------------------------------------\u001b[0m",
            "\u001b[0;31mTypeError\u001b[0m                                 Traceback (most recent call last)",
            "\u001b[0;32m<ipython-input-77-1d56a44e1424>\u001b[0m in \u001b[0;36m<cell line: 12>\u001b[0;34m()\u001b[0m\n\u001b[1;32m     11\u001b[0m \u001b[0maverage_marks\u001b[0m \u001b[0;34m=\u001b[0m \u001b[0;34m{\u001b[0m\u001b[0;34m}\u001b[0m\u001b[0;34m\u001b[0m\u001b[0;34m\u001b[0m\u001b[0m\n\u001b[1;32m     12\u001b[0m \u001b[0;32mfor\u001b[0m \u001b[0mstudent_marks\u001b[0m \u001b[0;32min\u001b[0m \u001b[0mstudent_marks\u001b[0m\u001b[0;34m.\u001b[0m\u001b[0mitems\u001b[0m\u001b[0;34m(\u001b[0m\u001b[0;34m)\u001b[0m\u001b[0;34m:\u001b[0m\u001b[0;34m\u001b[0m\u001b[0;34m\u001b[0m\u001b[0m\n\u001b[0;32m---> 13\u001b[0;31m     \u001b[0maverage_marks\u001b[0m\u001b[0;34m[\u001b[0m\u001b[0mstudent\u001b[0m\u001b[0;34m]\u001b[0m \u001b[0;34m=\u001b[0m \u001b[0msum\u001b[0m\u001b[0;34m(\u001b[0m\u001b[0mmarks\u001b[0m\u001b[0;34m)\u001b[0m \u001b[0;34m/\u001b[0m \u001b[0mlen\u001b[0m\u001b[0;34m(\u001b[0m\u001b[0mmarks\u001b[0m\u001b[0;34m)\u001b[0m\u001b[0;34m\u001b[0m\u001b[0;34m\u001b[0m\u001b[0m\n\u001b[0m\u001b[1;32m     14\u001b[0m \u001b[0;34m\u001b[0m\u001b[0m\n\u001b[1;32m     15\u001b[0m \u001b[0;31m# Find the student with maximum and minimum average marks\u001b[0m\u001b[0;34m\u001b[0m\u001b[0;34m\u001b[0m\u001b[0m\n",
            "\u001b[0;31mTypeError\u001b[0m: 'int' object is not callable"
          ]
        }
      ]
    }
  ]
}